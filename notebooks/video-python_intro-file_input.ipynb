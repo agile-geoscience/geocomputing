{
 "cells": [
  {
   "cell_type": "markdown",
   "metadata": {},
   "source": [
    "# Intro to Python - For Video\n",
    "\n",
    "We are going to work on the basics for working with some well data over the course of this and following tutorials.  At the end of this, you should be able to read in a text file with log data, manipulate it to some extent, and then save it back to disk.\n",
    "\n",
    "We will start with reading a file containing some sample data in, and then take those and start working on them in a variety of ways. For now, do not focus too much on how the actual file is read; we _will_ come back to it. Just use it as block box for the moment, the explanation of the syntax needs a little more context about other concepts that have not been explained yet (because none have been explained yet!)."
   ]
  },
  {
   "cell_type": "code",
   "execution_count": null,
   "metadata": {},
   "outputs": [],
   "source": [
    "with open('../data/well_log.txt', 'r') as f:\n",
    "    log = f.readlines()\n",
    "\n",
    "log"
   ]
  },
  {
   "cell_type": "markdown",
   "metadata": {},
   "source": [
    "We are going to start with that first group of values, which are the thicknesses of each horizon.\n",
    "\n",
    "In order to do that, we need to extract them from `log`, whatever that is. Python has a built-in **_function_** named `type` to check. We use a function by _**calling**_ it with parentheses and giving zero or more **_arguments_** that the function will do things with. Here, `type` is the function, and `log` is the argument passed to it when we call it:"
   ]
  },
  {
   "cell_type": "code",
   "execution_count": null,
   "metadata": {},
   "outputs": [],
   "source": [
    "type(log)"
   ]
  },
  {
   "cell_type": "markdown",
   "metadata": {},
   "source": [
    "We can see that `type` has _**returned**_ the type of `log`: `list`. A list is an ordered sequence made up of a number of elements. Lists are recognisable as `[]` surrounding a number of elements separated by commas. If you need to make a list explicitly, the general pattern is as follows:"
   ]
  },
  {
   "cell_type": "code",
   "execution_count": null,
   "metadata": {},
   "outputs": [],
   "source": [
    "['a', 'b', 'c']"
   ]
  },
  {
   "cell_type": "markdown",
   "metadata": {},
   "source": [
    "A useful thing to know is how long a list is:"
   ]
  },
  {
   "cell_type": "code",
   "execution_count": null,
   "metadata": {},
   "outputs": [],
   "source": [
    "len(log)"
   ]
  },
  {
   "cell_type": "markdown",
   "metadata": {},
   "source": [
    "This means that `log` is a list made up of three elements (in this case, each element is a line in our input file). We can extract a specific element from our `log` list using the following syntax:"
   ]
  },
  {
   "cell_type": "code",
   "execution_count": null,
   "metadata": {},
   "outputs": [],
   "source": [
    "log[0]"
   ]
  },
  {
   "cell_type": "markdown",
   "metadata": {},
   "source": [
    "The value in the `[]` is the index of a given element, starting from `0`. What is the type of `log[0]`?"
   ]
  },
  {
   "cell_type": "code",
   "execution_count": null,
   "metadata": {},
   "outputs": [],
   "source": [
    "type(log[0])"
   ]
  },
  {
   "cell_type": "markdown",
   "metadata": {},
   "source": [
    "`str` is the basic type for strings, which can be thought of as lists of characters, with matching `'` or `\"` at each end: `'This is a string'` and `\"so is this!\"`. Strings have a number of useful **_methods_** (which are functions associated to a specific object, rather than to a type of object). We will first save our `log[0]` to something more convenient to type, using the **_assignment_** operator `=`."
   ]
  },
  {
   "cell_type": "code",
   "execution_count": null,
   "metadata": {},
   "outputs": [],
   "source": [
    "layers = log[0]"
   ]
  },
  {
   "cell_type": "markdown",
   "metadata": {},
   "source": [
    "Assignment is silent, which means that we do not get any feedback when it works. (If it failed for some reason, we would get an error, in Python termed an _**Exception**_. You will soon become familiar with these.) We now have a `str` named `layers`:"
   ]
  },
  {
   "cell_type": "code",
   "execution_count": null,
   "metadata": {},
   "outputs": [],
   "source": [
    "layers"
   ]
  },
  {
   "cell_type": "markdown",
   "metadata": {},
   "source": [
    "One of the most useful string methods is `split`, which allows us to break a string into a list, based on a specific substring. In this case, we can see that each element is separated by a `,`. There is also `\\n` at the end. This is a newline character, and we can remove it using `strip`. There are a number of other useful string methods that we will look at later, but for now we will just use these."
   ]
  },
  {
   "cell_type": "code",
   "execution_count": null,
   "metadata": {},
   "outputs": [],
   "source": [
    "layers.strip()"
   ]
  },
  {
   "cell_type": "code",
   "execution_count": null,
   "metadata": {},
   "outputs": [],
   "source": [
    "layers.split(',')"
   ]
  },
  {
   "cell_type": "markdown",
   "metadata": {},
   "source": [
    "Why do we still have the `\\n` in the second line there? Strings are \"immutable\", which means that they can not be changed once created. The various string methods return _copies_ of the original string. We can also chain these methods together if we want to use multiple methods. The result will be assigned the name `layers_list`."
   ]
  },
  {
   "cell_type": "code",
   "execution_count": null,
   "metadata": {},
   "outputs": [],
   "source": [
    "layers_list = layers.strip().split(',')\n",
    "layers_list"
   ]
  },
  {
   "cell_type": "markdown",
   "metadata": {},
   "source": [
    "This has now given us a list of numbers.\n",
    "\n",
    "<hr>\n",
    "\n",
    "We can access elements as already shown, where the first element has index `0`:"
   ]
  },
  {
   "cell_type": "code",
   "execution_count": null,
   "metadata": {},
   "outputs": [],
   "source": [
    "layers_list[0]"
   ]
  },
  {
   "cell_type": "markdown",
   "metadata": {},
   "source": [
    "Accessing multiple elements uses the following pattern:"
   ]
  },
  {
   "cell_type": "code",
   "execution_count": null,
   "metadata": {},
   "outputs": [],
   "source": [
    "layers_list[3:7]"
   ]
  },
  {
   "cell_type": "markdown",
   "metadata": {},
   "source": [
    "Note that the value (`1.3`) at the second index (`7`) is not included. `list[a:b]` will fetch the elements at index `a` up to, but not including index `b`. If we want the last element, we can use `list[-1]`:"
   ]
  },
  {
   "cell_type": "code",
   "execution_count": null,
   "metadata": {},
   "outputs": [],
   "source": [
    "layers_list[-1]"
   ]
  },
  {
   "cell_type": "markdown",
   "metadata": {},
   "source": [
    "We can also take elements out of the list at regular intervals by adding a third value, termed the 'stride'. In this case, we will start at the end of the list and then stride backwards to every second element until we get to index 4:"
   ]
  },
  {
   "cell_type": "code",
   "execution_count": null,
   "metadata": {},
   "outputs": [],
   "source": [
    "layers_list[-1:4:-2]"
   ]
  },
  {
   "cell_type": "markdown",
   "metadata": {},
   "source": [
    "Adding elements to the end of a list can be done using the `append` method, while `pop` will remove a given item, by default from the end of the list, and give you the value back. `insert` will add elements before a given index, while `extend` will combine two lists together. The first two are much more common, but you may find uses for the second pair."
   ]
  },
  {
   "cell_type": "code",
   "execution_count": null,
   "metadata": {},
   "outputs": [],
   "source": [
    "layers_list.append(13)\n",
    "layers_list"
   ]
  },
  {
   "cell_type": "code",
   "execution_count": null,
   "metadata": {},
   "outputs": [],
   "source": [
    "layers_list.pop()"
   ]
  },
  {
   "cell_type": "code",
   "execution_count": null,
   "metadata": {},
   "outputs": [],
   "source": [
    "layers_list"
   ]
  },
  {
   "cell_type": "markdown",
   "metadata": {},
   "source": [
    "An important property of lists is that elements can be changed, if we need to change them. This means that lists are _**mutable**_. We do this by assigning a value to a given index in the list. (Recall we said that `str`s are lists of characters? This next cell does not work on a string, because `str`s are **_immutable_**. There are other mutable and immutable types that we will look at later.)"
   ]
  },
  {
   "cell_type": "code",
   "execution_count": null,
   "metadata": {},
   "outputs": [],
   "source": [
    "layers_list[1] = '32'\n",
    "layers_list"
   ]
  },
  {
   "cell_type": "markdown",
   "metadata": {},
   "source": [
    "It is worth noting that elements in a list can be anything (although this is usually confusing, and we will have better methods of dealing with heterogenous data later):"
   ]
  },
  {
   "cell_type": "code",
   "execution_count": null,
   "metadata": {},
   "outputs": [],
   "source": [
    "[123, 4242.21, \"This is a string\", \"The next element is a function:\", print]"
   ]
  },
  {
   "cell_type": "markdown",
   "metadata": {},
   "source": [
    "Since we have numbers, we might want to do something like add them together:"
   ]
  },
  {
   "cell_type": "code",
   "execution_count": null,
   "metadata": {},
   "outputs": [],
   "source": [
    "layers_list[0] + layers_list[1]"
   ]
  },
  {
   "cell_type": "markdown",
   "metadata": {},
   "source": [
    "That does not look at all right. What is the type of each element in `layers_list`?"
   ]
  },
  {
   "cell_type": "code",
   "execution_count": null,
   "metadata": {},
   "outputs": [],
   "source": [
    "type(layers_list[0]), type(layers_list[1])"
   ]
  },
  {
   "cell_type": "markdown",
   "metadata": {},
   "source": [
    "These are strings, which do not add the same way that we might expect. We need to make the elements a proper number of some kind. Python gives us two major numbers: integers (`int`) and decimals (`float` - short for floating point). There is also support for `complex` numbers (of the form `(1 + 1j)`), if you need those. (An aside: these basic numbers are immutable.)\n",
    "\n",
    "We can make a string that looks like a number a proper number like this:"
   ]
  },
  {
   "cell_type": "code",
   "execution_count": null,
   "metadata": {},
   "outputs": [],
   "source": [
    "int('42'), float('42'), int(float('3.8')), float('3.8')"
   ]
  },
  {
   "cell_type": "markdown",
   "metadata": {},
   "source": [
    "Note that `float` gives us a decimal representation, even when given an integer. `int` can not handle strings that look like decimal numbers, and if given a `float`, simply truncates the number by removing everything after the decimal point. (`int('3.8')` raises an Exception.) We can now add the thickness of the first two horizons together, or do other mathematical operations:\n",
    "\n",
    "Normal mathematical operators are as follows:\n",
    "\n",
    "| Exponentiation | Integer division | Modulo (remainder) | Multiplication | Division | Addition | Subtraction | Equality |\n",
    "|----------------|------------------|--------------------|----------------|----------|----------|-------------|----------|\n",
    "| **             | //               | %                  | *              | /        | +        | -           | ==       |\n",
    "\n",
    "Note in particular that equality is checked with `==`, **not** `=`, which we have used for assignment already."
   ]
  },
  {
   "cell_type": "code",
   "execution_count": null,
   "metadata": {},
   "outputs": [],
   "source": [
    "int(layers_list[1]) + int(layers_list[0])"
   ]
  },
  {
   "cell_type": "code",
   "execution_count": null,
   "metadata": {},
   "outputs": [],
   "source": [
    "int(layers_list[1]) - int(layers_list[0])"
   ]
  },
  {
   "cell_type": "code",
   "execution_count": null,
   "metadata": {},
   "outputs": [],
   "source": [
    "int(layers_list[1]) * int(layers_list[0])"
   ]
  },
  {
   "cell_type": "code",
   "execution_count": null,
   "metadata": {},
   "outputs": [],
   "source": [
    "int(layers_list[1]) / int(layers_list[0])"
   ]
  },
  {
   "cell_type": "markdown",
   "metadata": {},
   "source": [
    "Note that division gives us a `float` automatically. If we want integer division we need to use `//` instead. `%` will get us the remainder as well:"
   ]
  },
  {
   "cell_type": "code",
   "execution_count": null,
   "metadata": {},
   "outputs": [],
   "source": [
    "int(layers_list[1]) // int(layers_list[0]), int(layers_list[1]) % int(layers_list[0])"
   ]
  },
  {
   "cell_type": "markdown",
   "metadata": {},
   "source": [
    "Something worth noting is how to deal with null data. Python has a built-in type `None`. If you have missing data or similar, this should be what you use, not special numbers like -999.25 or -1 or similar."
   ]
  },
  {
   "cell_type": "code",
   "execution_count": null,
   "metadata": {},
   "outputs": [],
   "source": [
    "None, type(None)"
   ]
  },
  {
   "cell_type": "markdown",
   "metadata": {},
   "source": [
    "For some mathematical things we need more than just the built-in functions. We might need or want to have some trigonometric functions, for example. In order to use these, we need to `import` the relevant library. We have a few ways of doing this, depending on exactly what we want to do."
   ]
  },
  {
   "cell_type": "code",
   "execution_count": null,
   "metadata": {},
   "outputs": [],
   "source": [
    "from math import sin\n",
    "sin(3)"
   ]
  },
  {
   "cell_type": "code",
   "execution_count": null,
   "metadata": {},
   "outputs": [],
   "source": [
    "import math\n",
    "math.sin(3)"
   ]
  },
  {
   "cell_type": "code",
   "execution_count": null,
   "metadata": {},
   "outputs": [],
   "source": [
    "import math as mm\n",
    "mm.sin(3)"
   ]
  },
  {
   "cell_type": "markdown",
   "metadata": {},
   "source": [
    "Each of these gets us access to a `sin` function, with some differences:\n",
    "\n",
    "- The first only imports the `sin` function specifically. If we already have something named `sin`, then it will overwrite it.\n",
    "- The second imports all of the functions in the `math` module, which means that we need to access `sin` as a function in the `math` module with `math.sin`. It is safer to do this, since it is unlikely that we have anything with that name already.\n",
    "- The last is commonly used for making shorter names for very commonly used functions, since instead of writing `math.sin` we can just use `mm.sin`. Some common examples of this **_aliasing_** that you will come across is `import numpy as np`, `import matplotlib.pyplot as plt`, and `import pandas as pd`. These three in particular are the standard way of importing those specific libraries."
   ]
  },
  {
   "cell_type": "markdown",
   "metadata": {},
   "source": [
    "<hr>\n",
    "\n",
    "Working with each element in a list is somewhat tedious, so let us look at how to step through the list and make changes to each element as we go.\n",
    "\n",
    "In Python, this is done with the pattern `for item in items:` followed by lines indented with four spaces:"
   ]
  },
  {
   "cell_type": "code",
   "execution_count": null,
   "metadata": {},
   "outputs": [],
   "source": [
    "for layer in layers_list:\n",
    "    print(type(layer))\n",
    "    print(layer)"
   ]
  },
  {
   "cell_type": "markdown",
   "metadata": {},
   "source": [
    "A very common pattern is to `append` items to an empty list (`[]`) and use `for ... in ...:` to obtain each item."
   ]
  },
  {
   "cell_type": "code",
   "execution_count": null,
   "metadata": {},
   "outputs": [],
   "source": [
    "layers_numbers = []\n",
    "for layer in layers_list:\n",
    "    layers_numbers.append(float(layer))\n",
    "\n",
    "layers_numbers"
   ]
  },
  {
   "cell_type": "markdown",
   "metadata": {},
   "source": [
    "We can achieve the same result with slightly more compact syntax using a \"list comprehension\":"
   ]
  },
  {
   "cell_type": "code",
   "execution_count": null,
   "metadata": {},
   "outputs": [],
   "source": [
    "layers_numbers_lc = [float(layer) for layer in layers_list]\n",
    "layers_numbers_lc"
   ]
  },
  {
   "cell_type": "code",
   "execution_count": null,
   "metadata": {},
   "outputs": [],
   "source": [
    "layers_numbers == layers_numbers_lc"
   ]
  },
  {
   "cell_type": "markdown",
   "metadata": {},
   "source": [
    "The return from that last cell is a type that we have not seen before. It is a `bool`, which is either `True` or `False`. We can use these to selectively run a block of code.\n",
    "\n",
    "Boolean values can be obtained in a number of ways. Many functions or methods will return either True or False. Comparisons also return a `bool`:\n",
    "\n",
    "| Equal to | Not equal to | Less than | Greater than | Less than or equal | Greater than or equal |\n",
    "|----------|--------------|-----------|--------------|--------------------|-----------------------|\n",
    "|   `==`   |     `!=`     |    `<`    |      `>`     |        `<=`        |          `>=`         |\n",
    "\n",
    "Different types will never be equal (that is, something like `1 == '1'` is `False`). If you want to know if some is the same object as another, then you should use `is` and `is not`.\n",
    "\n",
    "Some objects contain others (for example lists), and membership within a collection can be tested with `in`.\n",
    "\n",
    "We can also link such expressions together:\n",
    "\n",
    "| Operation | Result                               |\n",
    "|-----------|--------------------------------------|\n",
    "| x or y    | if x is false, then y, else x        |\n",
    "| x and y   | if x is false, then x, else y        |\n",
    "| not x     | if x is false, then True, else False |"
   ]
  },
  {
   "cell_type": "code",
   "execution_count": null,
   "metadata": {},
   "outputs": [],
   "source": [
    "layers_numbers[0] < layers_numbers[1]"
   ]
  },
  {
   "cell_type": "code",
   "execution_count": null,
   "metadata": {},
   "outputs": [],
   "source": [
    "layers_numbers[1] < layers_numbers[2]"
   ]
  },
  {
   "cell_type": "code",
   "execution_count": null,
   "metadata": {},
   "outputs": [],
   "source": [
    "layers_numbers[0] < layers_numbers[1] and layers_numbers[1] < layers_numbers[2]"
   ]
  },
  {
   "cell_type": "code",
   "execution_count": null,
   "metadata": {},
   "outputs": [],
   "source": [
    "layers_numbers[0] < layers_numbers[1] or layers_numbers[1] < layers_numbers[2]"
   ]
  },
  {
   "cell_type": "markdown",
   "metadata": {},
   "source": [
    "<hr>\n",
    "\n",
    "Using a new structure, `if` we can decide to run a given block of code or not. `if <condition>:` will only run the indented block following if the `<condition>` evaluates to `True`, skipping over the indented code if it evaluates to `False`:"
   ]
  },
  {
   "cell_type": "code",
   "execution_count": null,
   "metadata": {},
   "outputs": [],
   "source": [
    "if layers_numbers[0] < layers_numbers[1]:\n",
    "    print('First thickness is less than second')"
   ]
  },
  {
   "cell_type": "code",
   "execution_count": null,
   "metadata": {},
   "outputs": [],
   "source": [
    "if layers_numbers[1] < layers_numbers[2]:\n",
    "    print('First thickness is less than second')"
   ]
  },
  {
   "cell_type": "markdown",
   "metadata": {},
   "source": [
    "The second cell never `print`s because `layers_numbers[1] < layers_numbers[2]` is False. We can put a catch-all at the end of this block, with `else:`. Note that this does not look at any condition; if none of the statements above are run, then this indented block will be run instead."
   ]
  },
  {
   "cell_type": "code",
   "execution_count": null,
   "metadata": {},
   "outputs": [],
   "source": [
    "if layers_numbers[1] < layers_numbers[2]:\n",
    "    print('First thickness is less than second')\n",
    "else:\n",
    "    print('First thickness is greater than second')"
   ]
  },
  {
   "cell_type": "markdown",
   "metadata": {},
   "source": [
    "Multiple `if` statements will all be used, if the condition is met:"
   ]
  },
  {
   "cell_type": "code",
   "execution_count": null,
   "metadata": {},
   "outputs": [],
   "source": [
    "if layers_numbers[0] > layers_numbers[1]:\n",
    "    print('First thickness is greater than second')\n",
    "if layers_numbers[0] < 15:\n",
    "    print('First thickness is less than 15')\n",
    "if layers_numbers[0] > 5:\n",
    "    print('First thickness is greater than 5')\n",
    "else:\n",
    "    print('None of these were True.')"
   ]
  },
  {
   "cell_type": "markdown",
   "metadata": {},
   "source": [
    "If we only want the _first_ block that has a condition evaluate to True to be run, then we can use the `elif <condition>:` (for \"else if\") instead:"
   ]
  },
  {
   "cell_type": "code",
   "execution_count": null,
   "metadata": {},
   "outputs": [],
   "source": [
    "if layers_numbers[0] > layers_numbers[1]:\n",
    "    print('First thickness is greater than second')\n",
    "elif layers_numbers[0] < 15:\n",
    "    print('First thickness is less than 15')\n",
    "elif layers_numbers[0] > 5:\n",
    "    print('First thickness is greater than 5')\n",
    "else:\n",
    "    print('None of these were True.')"
   ]
  },
  {
   "cell_type": "markdown",
   "metadata": {},
   "source": [
    "Notice that in neither case was the `else` block run, because a block above it was run. We can use this to treat different elements in an iterable differently:"
   ]
  },
  {
   "cell_type": "code",
   "execution_count": null,
   "metadata": {},
   "outputs": [],
   "source": [
    "for layer in layers_numbers:\n",
    "    if layer < 15:\n",
    "        print(layer)\n",
    "    else:\n",
    "        print('Thick layer')"
   ]
  },
  {
   "cell_type": "markdown",
   "metadata": {},
   "source": [
    "We can also control the loop based on the value of given elements, using the `break` and `continue` statements:"
   ]
  },
  {
   "cell_type": "code",
   "execution_count": null,
   "metadata": {},
   "outputs": [],
   "source": [
    "for layer in layers_numbers:\n",
    "    if layer > 35:\n",
    "        print('Thickness is >35m, stopping loop.')\n",
    "        break\n",
    "    print(layer)"
   ]
  },
  {
   "cell_type": "code",
   "execution_count": null,
   "metadata": {},
   "outputs": [],
   "source": [
    "for layer in layers_numbers:\n",
    "    if layer > 35:\n",
    "        print('Thickness is >35m, skipping value.')\n",
    "        continue\n",
    "    print(layer)"
   ]
  },
  {
   "cell_type": "markdown",
   "metadata": {},
   "source": [
    "As these examples show, `break` ends the loop, while `continue` fetches the next element in the iterable.\n",
    "\n",
    "<hr>\n",
    "\n",
    "If we are working specifically with numbers, then `numpy` offers us some conveniences over the built-in libraries, so let us take a look at those in particular. First we need to import numpy, which is invariably done as follows:\n",
    "\n",
    "_**Does this next bit go too far into the numpy weeds?**_"
   ]
  },
  {
   "cell_type": "code",
   "execution_count": null,
   "metadata": {},
   "outputs": [],
   "source": [
    "import numpy as np"
   ]
  },
  {
   "cell_type": "markdown",
   "metadata": {},
   "source": [
    "What we are most interested in is a new type: numpy's `array`. We can make and use one in most any situation where we have data comprised solely of numbers. First, we will convert our `list` to an `array` by type-casting it:"
   ]
  },
  {
   "cell_type": "code",
   "execution_count": null,
   "metadata": {},
   "outputs": [],
   "source": [
    "arr_layers = np.array(layers_numbers)\n",
    "print(type(arr_layers))\n",
    "arr_layers"
   ]
  },
  {
   "cell_type": "markdown",
   "metadata": {},
   "source": [
    "This is very similar to the list, but has a wealth of additional methods to make working with large numerical datasets easier. If we give it a `list` of `int`s, they will stay as `int`s, but if there is one `float`, all of the values will be converted:"
   ]
  },
  {
   "cell_type": "code",
   "execution_count": null,
   "metadata": {},
   "outputs": [],
   "source": [
    "np.array([1, 2, 3, 4, 5, 6])"
   ]
  },
  {
   "cell_type": "code",
   "execution_count": null,
   "metadata": {},
   "outputs": [],
   "source": [
    "np.array([1, 2, 3, 4, 5, 5.5])"
   ]
  },
  {
   "cell_type": "markdown",
   "metadata": {},
   "source": [
    "Some common `array` methods that you may find useful:"
   ]
  },
  {
   "cell_type": "code",
   "execution_count": null,
   "metadata": {},
   "outputs": [],
   "source": [
    "arr_layers.shape"
   ]
  },
  {
   "cell_type": "code",
   "execution_count": null,
   "metadata": {},
   "outputs": [],
   "source": [
    "arr_layers.max(), arr_layers.min(), arr_layers.mean()"
   ]
  },
  {
   "cell_type": "code",
   "execution_count": null,
   "metadata": {},
   "outputs": [],
   "source": [
    "arr_layers.sum()"
   ]
  },
  {
   "cell_type": "markdown",
   "metadata": {},
   "source": [
    "Some things that we may want are a function from numpy, rather than a method associated with a given array object. There are a few like this, so check the [documentation](https://numpy.org/doc/stable/) if you are looking for something specific. Some that are worth noting are the following:"
   ]
  },
  {
   "cell_type": "code",
   "execution_count": null,
   "metadata": {},
   "outputs": [],
   "source": [
    "np.nanmin(arr_layers), np.nanmax(arr_layers), np.median(arr_layers)"
   ]
  },
  {
   "cell_type": "markdown",
   "metadata": {},
   "source": [
    "Where numpy arrays are really useful is in doing a mathematical operation on the entire array. For example, trying to multiply or add to all the values in a list requires accessing each value and performing multiplication or addition on it. In numpy that process is as simple as:"
   ]
  },
  {
   "cell_type": "code",
   "execution_count": null,
   "metadata": {},
   "outputs": [],
   "source": [
    "arr_layers"
   ]
  },
  {
   "cell_type": "code",
   "execution_count": null,
   "metadata": {},
   "outputs": [],
   "source": [
    "arr_layers * 2"
   ]
  },
  {
   "cell_type": "code",
   "execution_count": null,
   "metadata": {},
   "outputs": [],
   "source": [
    "arr_layers + 2"
   ]
  },
  {
   "cell_type": "markdown",
   "metadata": {},
   "source": [
    "We can select specific elements from an array in the same sort of way as we do in a list:"
   ]
  },
  {
   "cell_type": "code",
   "execution_count": null,
   "metadata": {},
   "outputs": [],
   "source": [
    "arr_layers[3]"
   ]
  },
  {
   "cell_type": "code",
   "execution_count": null,
   "metadata": {},
   "outputs": [],
   "source": [
    "arr_layers[:5]"
   ]
  },
  {
   "cell_type": "code",
   "execution_count": null,
   "metadata": {},
   "outputs": [],
   "source": [
    "arr_layers[-1::-2]"
   ]
  },
  {
   "cell_type": "markdown",
   "metadata": {},
   "source": [
    "We can also easily create a boolean array by checking if some condition is true or false for each element:"
   ]
  },
  {
   "cell_type": "code",
   "execution_count": null,
   "metadata": {},
   "outputs": [],
   "source": [
    "arr_layers > 15"
   ]
  },
  {
   "cell_type": "markdown",
   "metadata": {},
   "source": [
    "If we have a boolean array, we can select only the values that match that condition or that do not match:"
   ]
  },
  {
   "cell_type": "code",
   "execution_count": null,
   "metadata": {},
   "outputs": [],
   "source": [
    "arr_layers[arr_layers > 15]"
   ]
  },
  {
   "cell_type": "markdown",
   "metadata": {},
   "source": [
    "This gives us a good grounding in dealing with (lists of) numbers, along with accessing specific items, doing some basic mathematics, and deciding whether we want to do certain operations based on the value of something. There is also an introduction to some useful numpy things. \n",
    "\n",
    "<hr>\n",
    "\n",
    "We should swing back and look further at some of the the things that we can do with strings."
   ]
  },
  {
   "cell_type": "code",
   "execution_count": null,
   "metadata": {},
   "outputs": [],
   "source": [
    "log"
   ]
  },
  {
   "cell_type": "markdown",
   "metadata": {},
   "source": [
    "The last item in the list is made up of strings, so we will use that further. We can start by `split`ting it as before:"
   ]
  },
  {
   "cell_type": "code",
   "execution_count": null,
   "metadata": {},
   "outputs": [],
   "source": [
    "lithologies = log[-1].split(',')\n",
    "lithologies"
   ]
  },
  {
   "cell_type": "markdown",
   "metadata": {},
   "source": [
    "Here are some useful string methods (there are others, of course). Note that all of these return a copy of the string, and do not change the original string. If we want to use the new copy, then it would need to be assigned to a name (which could be the same one)."
   ]
  },
  {
   "cell_type": "code",
   "execution_count": null,
   "metadata": {},
   "outputs": [],
   "source": [
    "lithologies[1].lower()"
   ]
  },
  {
   "cell_type": "code",
   "execution_count": null,
   "metadata": {},
   "outputs": [],
   "source": [
    "lithologies[1].title()"
   ]
  },
  {
   "cell_type": "code",
   "execution_count": null,
   "metadata": {},
   "outputs": [],
   "source": [
    "lithologies[1].replace('ST', 'stone')"
   ]
  },
  {
   "cell_type": "code",
   "execution_count": null,
   "metadata": {},
   "outputs": [],
   "source": [
    "lithologies[1].find('ST')"
   ]
  },
  {
   "cell_type": "code",
   "execution_count": null,
   "metadata": {},
   "outputs": [],
   "source": [
    "'sand' + 'stone'"
   ]
  },
  {
   "cell_type": "code",
   "execution_count": null,
   "metadata": {},
   "outputs": [],
   "source": [
    "lithologies[1] * 3"
   ]
  },
  {
   "cell_type": "markdown",
   "metadata": {},
   "source": [
    "Strings are immutable, but are otherwise very similar to lists. We can extract specific characters out of a string using a very similar syntax to accessing elements in lists:"
   ]
  },
  {
   "cell_type": "code",
   "execution_count": null,
   "metadata": {},
   "outputs": [],
   "source": [
    "s = 'sandstone\\tphi:\\t0.3\\n\\t\\tGR:\\t32'\n",
    "print(s)\n",
    "s[4:9]"
   ]
  },
  {
   "cell_type": "markdown",
   "metadata": {},
   "source": [
    "Because of the immutability, `s[4] = 'S'` will throw an exception."
   ]
  },
  {
   "cell_type": "markdown",
   "metadata": {},
   "source": [
    "Of course, we can combine string methods with things like `for` and `if` that we have seen already:"
   ]
  },
  {
   "cell_type": "code",
   "execution_count": null,
   "metadata": {},
   "outputs": [],
   "source": [
    "for lith in lithologies:\n",
    "    if not lith.startswith('S'):\n",
    "        print('Not shale, slate or sandstone:')\n",
    "    print(lith)"
   ]
  },
  {
   "cell_type": "markdown",
   "metadata": {},
   "source": [
    "We can format the results of values in strings in two ways: `.format` or using f-strings. The latter is more compact, and there is no particular reason to not use them, unless you are working on legacy code. We can put expressions or variables into strings directly using this."
   ]
  },
  {
   "cell_type": "code",
   "execution_count": null,
   "metadata": {},
   "outputs": [],
   "source": [
    "for layer in layers_numbers:\n",
    "    print(f'This layers is {layer}m thick.')"
   ]
  },
  {
   "cell_type": "code",
   "execution_count": null,
   "metadata": {},
   "outputs": [],
   "source": [
    "for layer in layers_numbers:\n",
    "    print('This layers is {}m thick.'.format(layer))"
   ]
  },
  {
   "cell_type": "markdown",
   "metadata": {},
   "source": [
    "We can also set the number of decimal points to display using either:"
   ]
  },
  {
   "cell_type": "code",
   "execution_count": null,
   "metadata": {},
   "outputs": [],
   "source": [
    "1/3"
   ]
  },
  {
   "cell_type": "code",
   "execution_count": null,
   "metadata": {},
   "outputs": [],
   "source": [
    "f'We can set decimal points in {1/3:.2f}.'"
   ]
  },
  {
   "cell_type": "code",
   "execution_count": null,
   "metadata": {},
   "outputs": [],
   "source": [
    "'We can set decimal points in {:.2f}.'.format(1/3)"
   ]
  },
  {
   "cell_type": "markdown",
   "metadata": {},
   "source": [
    "As with some of the other stuff we have seen, we can also chain methods:"
   ]
  },
  {
   "cell_type": "code",
   "execution_count": null,
   "metadata": {},
   "outputs": [],
   "source": [
    "'sandstone'.replace('sand', 'silt').upper()"
   ]
  },
  {
   "cell_type": "markdown",
   "metadata": {},
   "source": [
    "There are other string methods (or methods that work on strings), but these cover many use-cases already.\n",
    "\n",
    "<hr>\n",
    "\n",
    "We can now deal with the three different lines that we originally read in, but we will want to look at them holistically as well. First, we need to convert each element of `log` (recall that these are strings) as a list. The layer thicknesses (`log[0]`) and the lithologies (`log[2]`) are already dealt with, so we only need to convert the densities (`log[1]`)."
   ]
  },
  {
   "cell_type": "code",
   "execution_count": null,
   "metadata": {},
   "outputs": [],
   "source": [
    "log"
   ]
  },
  {
   "cell_type": "code",
   "execution_count": null,
   "metadata": {},
   "outputs": [],
   "source": [
    "layers_numbers"
   ]
  },
  {
   "cell_type": "code",
   "execution_count": null,
   "metadata": {},
   "outputs": [],
   "source": [
    "densities = log[1].split(',')"
   ]
  },
  {
   "cell_type": "code",
   "execution_count": null,
   "metadata": {},
   "outputs": [],
   "source": [
    "densities_numbers = [float(density) for density in densities]\n",
    "densities_numbers"
   ]
  },
  {
   "cell_type": "code",
   "execution_count": null,
   "metadata": {},
   "outputs": [],
   "source": [
    "lithologies"
   ]
  },
  {
   "cell_type": "markdown",
   "metadata": {},
   "source": [
    "Now that we have all three, we can work with all three lists using `zip`. This returns the nth element of each iterable that it is passed, stopping when an iterable runs out of elements. In order to use it, we need to look at how to assign multiple values at once:"
   ]
  },
  {
   "cell_type": "code",
   "execution_count": null,
   "metadata": {},
   "outputs": [],
   "source": [
    "x, y, z = ['X1', 'Y1', 'Z1']\n",
    "print(x)\n",
    "print(y)\n",
    "print(z)"
   ]
  },
  {
   "cell_type": "markdown",
   "metadata": {},
   "source": [
    "If the number of things to be assigned are the same as the number of things to assign, this works without a hitch. Python will raise exceptions if there is an imbalance. This is useful, because `zip` is going to give us the nth element from any iterables passed, so we can name each of them easily, rather than dealing with each triplet."
   ]
  },
  {
   "cell_type": "code",
   "execution_count": null,
   "metadata": {},
   "outputs": [],
   "source": [
    "for elem in zip(layers_numbers, densities_numbers, lithologies):\n",
    "    print(elem)"
   ]
  },
  {
   "cell_type": "code",
   "execution_count": null,
   "metadata": {},
   "outputs": [],
   "source": [
    "for layer, den, lith in zip(layers_numbers, densities_numbers, lithologies):\n",
    "    print(f'This {lith} layer is {layer}m thick, with a density of {den}g/cm^3.')"
   ]
  },
  {
   "cell_type": "markdown",
   "metadata": {},
   "source": [
    "Somewhat similar is the `enumerate` function. This returns `n` and the value of the nth element of an iterable. It may be useful if you need some sort of count as you do things to the elements for some reason."
   ]
  },
  {
   "cell_type": "code",
   "execution_count": null,
   "metadata": {},
   "outputs": [],
   "source": [
    "for count, layer in enumerate(layers_numbers):\n",
    "    print(f'The item at index {count} has a value of {layer}.')"
   ]
  },
  {
   "cell_type": "markdown",
   "metadata": {},
   "source": [
    "`enumerate` only takes a single iterable, but we can give it the result of a `zip` if we need it."
   ]
  },
  {
   "cell_type": "code",
   "execution_count": null,
   "metadata": {},
   "outputs": [],
   "source": [
    "for count, value in enumerate(zip(layers_numbers, densities_numbers, lithologies)):\n",
    "    print(f'The item at index {count} has a value of {value}.')"
   ]
  },
  {
   "cell_type": "markdown",
   "metadata": {},
   "source": [
    "We can see that `zip` returns something similar to a list, but different in some important ways."
   ]
  },
  {
   "cell_type": "code",
   "execution_count": null,
   "metadata": {},
   "outputs": [],
   "source": [
    "type(value)"
   ]
  },
  {
   "cell_type": "markdown",
   "metadata": {},
   "source": [
    "A `tuple` is a comma-separated sequence, like a list, but is immutable. It is represented surrounded by `()`, although this is not strictly needed when creating a tuple:"
   ]
  },
  {
   "cell_type": "code",
   "execution_count": null,
   "metadata": {},
   "outputs": [],
   "source": [
    "t = 1, 2, 'a', 'b'\n",
    "type(t), t"
   ]
  },
  {
   "cell_type": "code",
   "execution_count": null,
   "metadata": {},
   "outputs": [],
   "source": [
    "t = (1, 2, 'a', 'b')\n",
    "type(t), t"
   ]
  },
  {
   "cell_type": "markdown",
   "metadata": {},
   "source": [
    "We can access elements in the same way as we have seen with lists and strings, although there are not many other methods associated with tuples, because of their immutability."
   ]
  },
  {
   "cell_type": "code",
   "execution_count": null,
   "metadata": {},
   "outputs": [],
   "source": [
    "value[2]"
   ]
  },
  {
   "cell_type": "markdown",
   "metadata": {},
   "source": [
    "<hr>"
   ]
  },
  {
   "cell_type": "code",
   "execution_count": null,
   "metadata": {},
   "outputs": [],
   "source": []
  },
  {
   "cell_type": "markdown",
   "metadata": {},
   "source": [
    "## Conclusion\n",
    "\n",
    "This should set you up well with the basics of Python, with a relatively straightforward geoscience-based example. The rest of Agile's course will go into far more detail, but you have enough to be useful already.\n",
    "\n",
    "<hr /><img src=\"https://avatars1.githubusercontent.com/u/1692321?v=3&s=200\" style=\"float:center\" width=\"40px\" /><p><center>© 2020 <a href=\"http://www.agilegeoscience.com/\">Agile Geoscience</a> - <a href=\"http://www.apache.org/licenses/LICENSE-2.0.html\">Apache License 2.0</a></center></p>"
   ]
  }
 ],
 "metadata": {
  "kernelspec": {
   "display_name": "geocomp",
   "language": "python",
   "name": "geocomp"
  },
  "language_info": {
   "codemirror_mode": {
    "name": "ipython",
    "version": 3
   },
   "file_extension": ".py",
   "mimetype": "text/x-python",
   "name": "python",
   "nbconvert_exporter": "python",
   "pygments_lexer": "ipython3",
   "version": "3.7.6"
  }
 },
 "nbformat": 4,
 "nbformat_minor": 4
}
