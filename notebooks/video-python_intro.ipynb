{
 "cells": [
  {
   "cell_type": "markdown",
   "metadata": {},
   "source": [
    "# Intro to Python - For Video\n",
    "\n",
    "We are going to work on the basics for working with some well data over the course of this and following tutorials. We will start by looking at how we might work with some of the basic data that we will be expecting.\n",
    "\n",
    "In the sciences, much of our data is numerical, so we will start there."
   ]
  },
  {
   "cell_type": "markdown",
   "metadata": {},
   "source": [
    "## 1. Names and Maths\n",
    "\n",
    "We can start with having some numbers associated with the thicknesses of each layer. Integers are referred to as `int`s, and decimal numbers as `float`s.\n",
    "\n",
    "For the most part, we can use either when we are doing basic maths:"
   ]
  },
  {
   "cell_type": "code",
   "execution_count": 1,
   "metadata": {},
   "outputs": [
    {
     "data": {
      "text/plain": [
       "49.5"
      ]
     },
     "execution_count": 1,
     "metadata": {},
     "output_type": "execute_result"
    }
   ],
   "source": [
    "20 + 29.5"
   ]
  },
  {
   "cell_type": "code",
   "execution_count": 2,
   "metadata": {},
   "outputs": [
    {
     "data": {
      "text/plain": [
       "10"
      ]
     },
     "execution_count": 2,
     "metadata": {},
     "output_type": "execute_result"
    }
   ],
   "source": [
    "30 - 20"
   ]
  },
  {
   "cell_type": "markdown",
   "metadata": {},
   "source": [
    "This gets inconvenient quickly if we need to refer to the same thickness repeatedly. We can \"save\" a thickness by assigning it to a name:"
   ]
  },
  {
   "cell_type": "code",
   "execution_count": 3,
   "metadata": {},
   "outputs": [],
   "source": [
    "thickness1 = 20\n",
    "thickness2 = 29.5\n",
    "thickness3 = 30\n",
    "thickness4 = 17"
   ]
  },
  {
   "cell_type": "markdown",
   "metadata": {},
   "source": [
    "The name can now be used anywhere we like and it will pull the number that it refers to from somewhere in memory."
   ]
  },
  {
   "cell_type": "code",
   "execution_count": 4,
   "metadata": {},
   "outputs": [
    {
     "data": {
      "text/plain": [
       "49.5"
      ]
     },
     "execution_count": 4,
     "metadata": {},
     "output_type": "execute_result"
    }
   ],
   "source": [
    "thickness1 + thickness2"
   ]
  },
  {
   "cell_type": "code",
   "execution_count": 5,
   "metadata": {},
   "outputs": [
    {
     "data": {
      "text/plain": [
       "9.5"
      ]
     },
     "execution_count": 5,
     "metadata": {},
     "output_type": "execute_result"
    }
   ],
   "source": [
    "thickness2 - thickness1"
   ]
  },
  {
   "cell_type": "markdown",
   "metadata": {},
   "source": [
    "This also makes it clear what our data is, and what is other values that we want to use that are not actually data."
   ]
  },
  {
   "cell_type": "code",
   "execution_count": 6,
   "metadata": {},
   "outputs": [
    {
     "data": {
      "text/plain": [
       "1.7"
      ]
     },
     "execution_count": 6,
     "metadata": {},
     "output_type": "execute_result"
    }
   ],
   "source": [
    "thickness4 / 10     # Division will get us a float by default.\n",
    "                    # Integer division looks like: thickness // 10"
   ]
  },
  {
   "cell_type": "code",
   "execution_count": 7,
   "metadata": {},
   "outputs": [
    {
     "data": {
      "text/plain": [
       "8"
      ]
     },
     "execution_count": 7,
     "metadata": {},
     "output_type": "execute_result"
    }
   ],
   "source": [
    "2**3 # exponentiation is done like this."
   ]
  },
  {
   "cell_type": "markdown",
   "metadata": {},
   "source": [
    "For some maths operations, we might need additional options, which we can obtain from the `math` module."
   ]
  },
  {
   "cell_type": "code",
   "execution_count": 8,
   "metadata": {},
   "outputs": [],
   "source": [
    "import math"
   ]
  },
  {
   "cell_type": "code",
   "execution_count": 9,
   "metadata": {},
   "outputs": [
    {
     "data": {
      "text/plain": [
       "3"
      ]
     },
     "execution_count": 9,
     "metadata": {},
     "output_type": "execute_result"
    }
   ],
   "source": [
    "math.ceil(thickness3 / 10)"
   ]
  },
  {
   "cell_type": "code",
   "execution_count": 10,
   "metadata": {},
   "outputs": [
    {
     "data": {
      "text/plain": [
       "0.9092974268256817"
      ]
     },
     "execution_count": 10,
     "metadata": {},
     "output_type": "execute_result"
    }
   ],
   "source": [
    "math.sin(2)"
   ]
  },
  {
   "cell_type": "markdown",
   "metadata": {},
   "source": [
    "We can also assign the results of a calculation to a new name:"
   ]
  },
  {
   "cell_type": "code",
   "execution_count": 11,
   "metadata": {},
   "outputs": [
    {
     "data": {
      "text/plain": [
       "0.6779661016949152"
      ]
     },
     "execution_count": 11,
     "metadata": {},
     "output_type": "execute_result"
    }
   ],
   "source": [
    "proportion = thickness1 / thickness2\n",
    "proportion"
   ]
  },
  {
   "cell_type": "markdown",
   "metadata": {},
   "source": [
    "We can also check for normal inequalities (greater than, less than, greater than or equal to, equal to, not equal to) and similar:"
   ]
  },
  {
   "cell_type": "code",
   "execution_count": 12,
   "metadata": {},
   "outputs": [
    {
     "data": {
      "text/plain": [
       "False"
      ]
     },
     "execution_count": 12,
     "metadata": {},
     "output_type": "execute_result"
    }
   ],
   "source": [
    "thickness1 > thickness2  # Greater than"
   ]
  },
  {
   "cell_type": "code",
   "execution_count": 13,
   "metadata": {},
   "outputs": [
    {
     "data": {
      "text/plain": [
       "True"
      ]
     },
     "execution_count": 13,
     "metadata": {},
     "output_type": "execute_result"
    }
   ],
   "source": [
    "thickness2 >= thickness4  # Greater than or equal to"
   ]
  },
  {
   "cell_type": "code",
   "execution_count": 14,
   "metadata": {},
   "outputs": [
    {
     "data": {
      "text/plain": [
       "False"
      ]
     },
     "execution_count": 14,
     "metadata": {},
     "output_type": "execute_result"
    }
   ],
   "source": [
    "thickness1 == thickness2  # Equal to"
   ]
  },
  {
   "cell_type": "code",
   "execution_count": 15,
   "metadata": {},
   "outputs": [
    {
     "data": {
      "text/plain": [
       "True"
      ]
     },
     "execution_count": 15,
     "metadata": {},
     "output_type": "execute_result"
    }
   ],
   "source": [
    "thickness1 != thickness2  # Not equal to"
   ]
  },
  {
   "cell_type": "markdown",
   "metadata": {},
   "source": [
    "## 2: Flow control 1: `if ... elif ... else`\n",
    "\n",
    "Anything that can evaluate to be either `True` or `False` can allow us to do something depending on if it is true or false. We do so as follows:"
   ]
  },
  {
   "cell_type": "code",
   "execution_count": 16,
   "metadata": {},
   "outputs": [
    {
     "name": "stdout",
     "output_type": "stream",
     "text": [
      "Thickness1 is bigger.\n"
     ]
    }
   ],
   "source": [
    "if thickness1 > thickness4:\n",
    "    print('Thickness1 is bigger.')"
   ]
  },
  {
   "cell_type": "markdown",
   "metadata": {},
   "source": [
    "We may want to check more than one thing:"
   ]
  },
  {
   "cell_type": "code",
   "execution_count": 17,
   "metadata": {},
   "outputs": [
    {
     "name": "stdout",
     "output_type": "stream",
     "text": [
      "Layer 1 is thinner than layer 2.\n",
      "Layer 1 is thinner than layer 3.\n"
     ]
    }
   ],
   "source": [
    "if thickness1 < thickness2:\n",
    "    print('Layer 1 is thinner than layer 2.')\n",
    "if thickness1 < thickness3:\n",
    "    print('Layer 1 is thinner than layer 3.')\n",
    "if thickness1 < thickness4:\n",
    "    print('Layer 1 is thinner than layer 4.')"
   ]
  },
  {
   "cell_type": "markdown",
   "metadata": {},
   "source": [
    "If we only want the first condition that evaluates to `True` to print, then we can use an `elif` instead:"
   ]
  },
  {
   "cell_type": "code",
   "execution_count": 18,
   "metadata": {},
   "outputs": [
    {
     "name": "stdout",
     "output_type": "stream",
     "text": [
      "Layer 1 is thinner than layer 2.\n"
     ]
    }
   ],
   "source": [
    "if thickness1 < thickness2:\n",
    "    print('Layer 1 is thinner than layer 2.')\n",
    "elif thickness1 < thickness3:\n",
    "    print('Layer 1 is thinner than layer 3.')\n",
    "elif thickness1 < thickness4:\n",
    "    print('Layer 1 is thinner than layer 4.')"
   ]
  },
  {
   "cell_type": "markdown",
   "metadata": {},
   "source": [
    "We can also have a final `else` that will only evaluate if all the `if` or `elif` statements are false:"
   ]
  },
  {
   "cell_type": "code",
   "execution_count": 19,
   "metadata": {},
   "outputs": [
    {
     "name": "stdout",
     "output_type": "stream",
     "text": [
      "None of the layers are equally thick.\n"
     ]
    }
   ],
   "source": [
    "if thickness1 == thickness2:\n",
    "    print('Layer 1 is as thick as layer 2.')\n",
    "elif thickness1 == thickness3:\n",
    "    print('Layer 1 is as thick as layer 3.')\n",
    "elif thickness1 == thickness4:\n",
    "    print('Layer 1 is as thick as layer 4.')\n",
    "else:\n",
    "    print('None of the layers are equally thick.')"
   ]
  },
  {
   "cell_type": "markdown",
   "metadata": {},
   "source": [
    "## 3: Lists part 1\n",
    "\n",
    "For something like a subsurface log, we will need to find a way to work with more than one value. `Lists` are a simple data structure that we can use to create a collection of data."
   ]
  },
  {
   "cell_type": "code",
   "execution_count": 20,
   "metadata": {},
   "outputs": [
    {
     "data": {
      "text/plain": [
       "[20, 30, 15, 12, 25, 32]"
      ]
     },
     "execution_count": 20,
     "metadata": {},
     "output_type": "execute_result"
    }
   ],
   "source": [
    "thicknesses = [20, 30, 15, 12, 25, 32]\n",
    "thicknesses"
   ]
  },
  {
   "cell_type": "markdown",
   "metadata": {},
   "source": [
    "We can access a given element in the list as follows, where the first element has the index `0` and the last is `-1`. Elements in a list can be assigned to new values, if desired."
   ]
  },
  {
   "cell_type": "code",
   "execution_count": 21,
   "metadata": {},
   "outputs": [
    {
     "data": {
      "text/plain": [
       "20"
      ]
     },
     "execution_count": 21,
     "metadata": {},
     "output_type": "execute_result"
    }
   ],
   "source": [
    "thicknesses[0]"
   ]
  },
  {
   "cell_type": "code",
   "execution_count": 22,
   "metadata": {},
   "outputs": [
    {
     "data": {
      "text/plain": [
       "32"
      ]
     },
     "execution_count": 22,
     "metadata": {},
     "output_type": "execute_result"
    }
   ],
   "source": [
    "thicknesses[-1]"
   ]
  },
  {
   "cell_type": "code",
   "execution_count": 23,
   "metadata": {},
   "outputs": [
    {
     "name": "stdout",
     "output_type": "stream",
     "text": [
      "[20, 30, 15, 12, 25, 32]\n",
      "[21.2, 30, 15, 12, 25, 32]\n"
     ]
    }
   ],
   "source": [
    "print(thicknesses)\n",
    "thicknesses[0] = 21.2\n",
    "print(thicknesses)"
   ]
  },
  {
   "cell_type": "markdown",
   "metadata": {},
   "source": [
    "And grab multiple elements using the following notation. Note that the second number is not included in the selection."
   ]
  },
  {
   "cell_type": "code",
   "execution_count": 24,
   "metadata": {},
   "outputs": [
    {
     "data": {
      "text/plain": [
       "[15, 12, 25]"
      ]
     },
     "execution_count": 24,
     "metadata": {},
     "output_type": "execute_result"
    }
   ],
   "source": [
    "thicknesses[2:5]"
   ]
  },
  {
   "cell_type": "code",
   "execution_count": 25,
   "metadata": {},
   "outputs": [
    {
     "data": {
      "text/plain": [
       "6"
      ]
     },
     "execution_count": 25,
     "metadata": {},
     "output_type": "execute_result"
    }
   ],
   "source": [
    "len(thicknesses)"
   ]
  },
  {
   "cell_type": "markdown",
   "metadata": {},
   "source": [
    "Unfortunately, lists are not able to handle maths on each element in the same way as a single number."
   ]
  },
  {
   "cell_type": "code",
   "execution_count": 26,
   "metadata": {},
   "outputs": [
    {
     "ename": "TypeError",
     "evalue": "unsupported operand type(s) for /: 'list' and 'int'",
     "output_type": "error",
     "traceback": [
      "\u001b[1;31m---------------------------------------------------------------------------\u001b[0m",
      "\u001b[1;31mTypeError\u001b[0m                                 Traceback (most recent call last)",
      "\u001b[1;32m<ipython-input-26-3a7274963407>\u001b[0m in \u001b[0;36m<module>\u001b[1;34m\u001b[0m\n\u001b[1;32m----> 1\u001b[1;33m \u001b[0mthicknesses\u001b[0m\u001b[1;33m[\u001b[0m\u001b[1;36m2\u001b[0m\u001b[1;33m:\u001b[0m\u001b[1;36m5\u001b[0m\u001b[1;33m]\u001b[0m \u001b[1;33m/\u001b[0m \u001b[1;36m10\u001b[0m\u001b[1;33m\u001b[0m\u001b[1;33m\u001b[0m\u001b[0m\n\u001b[0m",
      "\u001b[1;31mTypeError\u001b[0m: unsupported operand type(s) for /: 'list' and 'int'"
     ]
    }
   ],
   "source": [
    "thicknesses[2:5] / 10"
   ]
  },
  {
   "cell_type": "markdown",
   "metadata": {},
   "source": [
    "One possibility is to use `numpy`'s `array`, which is similar to a list, but with some additional superpowers. We will come back to arrays (and lists) again, but here is a simple example of how we can use `arrays` to scale our thickness values."
   ]
  },
  {
   "cell_type": "code",
   "execution_count": 27,
   "metadata": {},
   "outputs": [],
   "source": [
    "import numpy as np\n",
    "\n",
    "arr_thicknesses = np.array(thicknesses)"
   ]
  },
  {
   "cell_type": "code",
   "execution_count": 28,
   "metadata": {},
   "outputs": [
    {
     "data": {
      "text/plain": [
       "array([1.5, 1.2, 2.5])"
      ]
     },
     "execution_count": 28,
     "metadata": {},
     "output_type": "execute_result"
    }
   ],
   "source": [
    "arr_thicknesses[2:5] / 10"
   ]
  },
  {
   "cell_type": "code",
   "execution_count": 29,
   "metadata": {},
   "outputs": [
    {
     "data": {
      "text/plain": [
       "135.2"
      ]
     },
     "execution_count": 29,
     "metadata": {},
     "output_type": "execute_result"
    }
   ],
   "source": [
    "arr_thicknesses.sum()"
   ]
  },
  {
   "cell_type": "code",
   "execution_count": 30,
   "metadata": {},
   "outputs": [
    {
     "data": {
      "text/plain": [
       "148.5"
      ]
     },
     "execution_count": 30,
     "metadata": {},
     "output_type": "execute_result"
    }
   ],
   "source": [
    "thickness1 + thickness2 + thickness3 + 12 + 25 + 32"
   ]
  },
  {
   "cell_type": "code",
   "execution_count": 31,
   "metadata": {},
   "outputs": [
    {
     "data": {
      "text/plain": [
       "32.0"
      ]
     },
     "execution_count": 31,
     "metadata": {},
     "output_type": "execute_result"
    }
   ],
   "source": [
    "arr_thicknesses.max()"
   ]
  },
  {
   "cell_type": "markdown",
   "metadata": {},
   "source": [
    "## 4: Strings\n",
    "\n",
    "Numbers are not the only basic data-type that we care about. Many labels are text, as are things like rock types."
   ]
  },
  {
   "cell_type": "code",
   "execution_count": 32,
   "metadata": {},
   "outputs": [
    {
     "data": {
      "text/plain": [
       "'Sandstone\\tΦ=0.23'"
      ]
     },
     "execution_count": 32,
     "metadata": {},
     "output_type": "execute_result"
    }
   ],
   "source": [
    "'Sandstone\\tΦ=0.23'"
   ]
  },
  {
   "cell_type": "markdown",
   "metadata": {},
   "source": [
    "The representation as a raw string can be a little messy, especially if there are special characters such as `\\n` and `\\t`. Often, `print`ing it will make it look neater:"
   ]
  },
  {
   "cell_type": "code",
   "execution_count": 33,
   "metadata": {},
   "outputs": [
    {
     "name": "stdout",
     "output_type": "stream",
     "text": [
      "Sandstone\tΦ=0.23\n"
     ]
    }
   ],
   "source": [
    "print('Sandstone\\tΦ=0.23')"
   ]
  },
  {
   "cell_type": "code",
   "execution_count": 34,
   "metadata": {},
   "outputs": [],
   "source": [
    "sandstone = 'Sandstone\\tΦ=0.23'"
   ]
  },
  {
   "cell_type": "markdown",
   "metadata": {},
   "source": [
    "We can combine two or more strings with the `+` operator."
   ]
  },
  {
   "cell_type": "code",
   "execution_count": 35,
   "metadata": {},
   "outputs": [
    {
     "name": "stdout",
     "output_type": "stream",
     "text": [
      "Sandstone\tΦ=0.23\n",
      "\t\t𝜌=2.4\n"
     ]
    }
   ],
   "source": [
    "print(sandstone + '\\n\\t\\t𝜌=2.4')"
   ]
  },
  {
   "cell_type": "markdown",
   "metadata": {},
   "source": [
    "Strings have a number of potentially useful methods associated with them, for example:"
   ]
  },
  {
   "cell_type": "code",
   "execution_count": 36,
   "metadata": {},
   "outputs": [
    {
     "data": {
      "text/plain": [
       "'SANDSTONE\\tΦ=0.23'"
      ]
     },
     "execution_count": 36,
     "metadata": {},
     "output_type": "execute_result"
    }
   ],
   "source": [
    "sandstone.upper()"
   ]
  },
  {
   "cell_type": "code",
   "execution_count": 37,
   "metadata": {},
   "outputs": [
    {
     "data": {
      "text/plain": [
       "False"
      ]
     },
     "execution_count": 37,
     "metadata": {},
     "output_type": "execute_result"
    }
   ],
   "source": [
    "sandstone.isalpha() # checks if a string is only alphabetic characters."
   ]
  },
  {
   "cell_type": "code",
   "execution_count": 38,
   "metadata": {},
   "outputs": [
    {
     "data": {
      "text/plain": [
       "False"
      ]
     },
     "execution_count": 38,
     "metadata": {},
     "output_type": "execute_result"
    }
   ],
   "source": [
    "'\\n' in sandstone # checks if a given character (in this case a new line) is in a string."
   ]
  },
  {
   "cell_type": "code",
   "execution_count": 39,
   "metadata": {},
   "outputs": [
    {
     "data": {
      "text/plain": [
       "'Extra space.'"
      ]
     },
     "execution_count": 39,
     "metadata": {},
     "output_type": "execute_result"
    }
   ],
   "source": [
    "'  \\nExtra   space.   '.strip() # Remove excess space from the start and end of a string."
   ]
  },
  {
   "cell_type": "code",
   "execution_count": 40,
   "metadata": {},
   "outputs": [
    {
     "data": {
      "text/plain": [
       "True"
      ]
     },
     "execution_count": 40,
     "metadata": {},
     "output_type": "execute_result"
    }
   ],
   "source": [
    "sandstone.startswith('Sand')"
   ]
  },
  {
   "cell_type": "code",
   "execution_count": 41,
   "metadata": {},
   "outputs": [
    {
     "data": {
      "text/plain": [
       "['Sandstone', 'Φ=0.23']"
      ]
     },
     "execution_count": 41,
     "metadata": {},
     "output_type": "execute_result"
    }
   ],
   "source": [
    "sandstone.split('\\t')"
   ]
  },
  {
   "cell_type": "markdown",
   "metadata": {},
   "source": [
    "One way of thinking about strings is as a list of characters. We can access individual characters in the same way as we access elements in a list."
   ]
  },
  {
   "cell_type": "code",
   "execution_count": 42,
   "metadata": {},
   "outputs": [
    {
     "data": {
      "text/plain": [
       "'e'"
      ]
     },
     "execution_count": 42,
     "metadata": {},
     "output_type": "execute_result"
    }
   ],
   "source": [
    "sandstone[8]"
   ]
  },
  {
   "cell_type": "code",
   "execution_count": 43,
   "metadata": {},
   "outputs": [
    {
     "data": {
      "text/plain": [
       "'Sand'"
      ]
     },
     "execution_count": 43,
     "metadata": {},
     "output_type": "execute_result"
    }
   ],
   "source": [
    "sandstone[:4]"
   ]
  },
  {
   "cell_type": "markdown",
   "metadata": {},
   "source": [
    "Note that we can use anything that returns an `int` as the thing to do the slicing with, for example:"
   ]
  },
  {
   "cell_type": "code",
   "execution_count": 44,
   "metadata": {},
   "outputs": [
    {
     "data": {
      "text/plain": [
       "'Sandstone'"
      ]
     },
     "execution_count": 44,
     "metadata": {},
     "output_type": "execute_result"
    }
   ],
   "source": [
    "print(sandstone.find('\\t'))\n",
    "sandstone[:sandstone.find('\\t')]"
   ]
  },
  {
   "cell_type": "code",
   "execution_count": 45,
   "metadata": {},
   "outputs": [],
   "source": [
    "long_sandstone = sandstone + '\\n\\t\\t𝜌=2.4'"
   ]
  },
  {
   "cell_type": "code",
   "execution_count": 46,
   "metadata": {},
   "outputs": [
    {
     "data": {
      "text/plain": [
       "'Sandstone\\tΦ=0.23\\n'"
      ]
     },
     "execution_count": 46,
     "metadata": {},
     "output_type": "execute_result"
    }
   ],
   "source": [
    "long_sandstone[:long_sandstone.find('\\t', 10)]"
   ]
  },
  {
   "cell_type": "markdown",
   "metadata": {},
   "source": [
    "A very useful method when dealing with strings is the `split` method, which gives us a list of strings, by splitting a string on a given string. This can be treated identically to a normal list."
   ]
  },
  {
   "cell_type": "code",
   "execution_count": 47,
   "metadata": {},
   "outputs": [
    {
     "data": {
      "text/plain": [
       "['Sandstone', 'Φ=0.23\\n', '', '𝜌=2.4']"
      ]
     },
     "execution_count": 47,
     "metadata": {},
     "output_type": "execute_result"
    }
   ],
   "source": [
    "long_sandstone.split('\\t')"
   ]
  },
  {
   "cell_type": "code",
   "execution_count": 48,
   "metadata": {},
   "outputs": [],
   "source": [
    "phi = long_sandstone.split('\\t')[1]"
   ]
  },
  {
   "cell_type": "markdown",
   "metadata": {},
   "source": [
    "We may want to use given values in a string, for example to make an automated report. There are two common ways of doing this:"
   ]
  },
  {
   "cell_type": "code",
   "execution_count": 49,
   "metadata": {},
   "outputs": [
    {
     "name": "stdout",
     "output_type": "stream",
     "text": [
      "The Φ of the sandstone is 0.23\n",
      ".\n"
     ]
    }
   ],
   "source": [
    "print(\"The Φ of the sandstone is \" + phi.split('=')[1] + '.')"
   ]
  },
  {
   "cell_type": "code",
   "execution_count": 50,
   "metadata": {},
   "outputs": [
    {
     "name": "stdout",
     "output_type": "stream",
     "text": [
      "The Φ of the sandstone is 0.23.\n"
     ]
    }
   ],
   "source": [
    "print(f'The Φ of the sandstone is {phi.split(\"=\")[1].strip()}.')"
   ]
  },
  {
   "cell_type": "markdown",
   "metadata": {},
   "source": [
    "It is worth noting that a number in a string is still a string, so we need to explicitly make it a number if we want to do maths to it:"
   ]
  },
  {
   "cell_type": "code",
   "execution_count": 78,
   "metadata": {},
   "outputs": [
    {
     "data": {
      "text/plain": [
       "'0.23\\n'"
      ]
     },
     "execution_count": 78,
     "metadata": {},
     "output_type": "execute_result"
    }
   ],
   "source": [
    "phi.split('=')[1]"
   ]
  },
  {
   "cell_type": "code",
   "execution_count": 79,
   "metadata": {},
   "outputs": [
    {
     "data": {
      "text/plain": [
       "str"
      ]
     },
     "execution_count": 79,
     "metadata": {},
     "output_type": "execute_result"
    }
   ],
   "source": [
    "type(phi.split('=')[1])"
   ]
  },
  {
   "cell_type": "code",
   "execution_count": 80,
   "metadata": {},
   "outputs": [
    {
     "data": {
      "text/plain": [
       "0.23"
      ]
     },
     "execution_count": 80,
     "metadata": {},
     "output_type": "execute_result"
    }
   ],
   "source": [
    "float(phi.split('=')[1])"
   ]
  },
  {
   "cell_type": "code",
   "execution_count": 81,
   "metadata": {},
   "outputs": [
    {
     "data": {
      "text/plain": [
       "float"
      ]
     },
     "execution_count": 81,
     "metadata": {},
     "output_type": "execute_result"
    }
   ],
   "source": [
    "type(float(phi.split('=')[1]))"
   ]
  },
  {
   "cell_type": "markdown",
   "metadata": {},
   "source": [
    "## 5: Lists part 2\n",
    "\n",
    "Lists can contain anything, so we can make a log using them, potentially, by giving a list for the values (there are better ways that we will come back to later)."
   ]
  },
  {
   "cell_type": "code",
   "execution_count": 51,
   "metadata": {},
   "outputs": [],
   "source": [
    "depths = [10, 20, 30, 40, 50, 60, 70]\n",
    "densities = [2.3, 2.3, 2.5, 2.5, 2.35, 2.35, 3.2]\n",
    "rocks = ['Sandstone', 'Sandstone', 'Shale', 'Shale', 'Sandstone', 'Sandstone', 'Granite']"
   ]
  },
  {
   "cell_type": "code",
   "execution_count": 52,
   "metadata": {},
   "outputs": [
    {
     "data": {
      "text/plain": [
       "[['Sandstone',\n",
       "  'Sandstone',\n",
       "  'Shale',\n",
       "  'Shale',\n",
       "  'Sandstone',\n",
       "  'Sandstone',\n",
       "  'Granite'],\n",
       " [10, 20, 30, 40, 50, 60, 70],\n",
       " [2.3, 2.3, 2.5, 2.5, 2.35, 2.35, 3.2]]"
      ]
     },
     "execution_count": 52,
     "metadata": {},
     "output_type": "execute_result"
    }
   ],
   "source": [
    "log = [rocks, depths, densities]\n",
    "log"
   ]
  },
  {
   "cell_type": "code",
   "execution_count": 53,
   "metadata": {},
   "outputs": [
    {
     "name": "stdout",
     "output_type": "stream",
     "text": [
      "At 50m is sandstone with a density of 2.35.\n"
     ]
    }
   ],
   "source": [
    "print(f'At {log[1][4]}m is {log[0][4].lower()} with a density of {log[2][4]}.')"
   ]
  },
  {
   "cell_type": "markdown",
   "metadata": {},
   "source": [
    "We can make this less brittle by using a variable to extract the same index in each sub-array."
   ]
  },
  {
   "cell_type": "code",
   "execution_count": 54,
   "metadata": {},
   "outputs": [
    {
     "name": "stdout",
     "output_type": "stream",
     "text": [
      "At 50m is sandstone with a density of 2.35.\n",
      "At 60m is sandstone with a density of 2.35.\n",
      "At 70m is granite with a density of 3.2.\n"
     ]
    }
   ],
   "source": [
    "index = 4\n",
    "print(f'At {log[1][index]}m is {log[0][index].lower()} with a density of {log[2][index]}.')\n",
    "index = 5\n",
    "print(f'At {log[1][index]}m is {log[0][index].lower()} with a density of {log[2][index]}.')\n",
    "index = 6\n",
    "print(f'At {log[1][index]}m is {log[0][index].lower()} with a density of {log[2][index]}.')"
   ]
  },
  {
   "cell_type": "markdown",
   "metadata": {},
   "source": [
    "Again, we will come back to this, when we have a better data structure."
   ]
  },
  {
   "cell_type": "markdown",
   "metadata": {},
   "source": [
    "## 6: Flow control 2: `for ... in ...:`\n",
    "\n",
    "As the last example shows, we often have to do the same thing over and over again. Doing it with copy-paste is likely to lead to us making a mistake. It is better to let the computer do it for us:"
   ]
  },
  {
   "cell_type": "code",
   "execution_count": 55,
   "metadata": {},
   "outputs": [
    {
     "name": "stdout",
     "output_type": "stream",
     "text": [
      "At 10m is sandstone with a density of 2.3.\n",
      "At 20m is sandstone with a density of 2.3.\n",
      "At 30m is shale with a density of 2.5.\n",
      "At 40m is shale with a density of 2.5.\n",
      "At 50m is sandstone with a density of 2.35.\n",
      "At 60m is sandstone with a density of 2.35.\n",
      "At 70m is granite with a density of 3.2.\n"
     ]
    }
   ],
   "source": [
    "for index in range(7):\n",
    "    print(f'At {log[1][index]}m is {log[0][index].lower()} with a density of {log[2][index]}.')"
   ]
  },
  {
   "cell_type": "markdown",
   "metadata": {},
   "source": [
    "We may not want to do the same thing to everything that we look at. We can check if something meets a condition and do something if it does, and not if it does not:"
   ]
  },
  {
   "cell_type": "code",
   "execution_count": 56,
   "metadata": {},
   "outputs": [
    {
     "name": "stdout",
     "output_type": "stream",
     "text": [
      "At 10m is sandstone with a density of 2.3.\n",
      "At 20m is sandstone with a density of 2.3.\n",
      "At 50m is sandstone with a density of 2.35.\n",
      "At 60m is sandstone with a density of 2.35.\n"
     ]
    }
   ],
   "source": [
    "for index in range(7):\n",
    "    if log[2][index] < 2.5:\n",
    "        print(f'At {log[1][index]}m is {log[0][index].lower()} with a density of {log[2][index]}.')"
   ]
  },
  {
   "cell_type": "code",
   "execution_count": 57,
   "metadata": {},
   "outputs": [
    {
     "name": "stdout",
     "output_type": "stream",
     "text": [
      "At 10m is sandstone with a density of 2.3.\n",
      "At 20m is sandstone with a density of 2.3.\n",
      "Overly dense.\n",
      "Overly dense.\n",
      "At 50m is sandstone with a density of 2.35.\n",
      "At 60m is sandstone with a density of 2.35.\n",
      "Overly dense.\n"
     ]
    }
   ],
   "source": [
    "for index in range(7):\n",
    "    if log[2][index] < 2.5:\n",
    "        print(f'At {log[1][index]}m is {log[0][index].lower()} with a density of {log[2][index]}.')\n",
    "    else:\n",
    "        print('Overly dense.')"
   ]
  },
  {
   "cell_type": "markdown",
   "metadata": {},
   "source": [
    "In Python, if we have an iterable sequence (like a list or array), then we can use a `for` loop to grab each item in the sequence in turn:"
   ]
  },
  {
   "cell_type": "code",
   "execution_count": 58,
   "metadata": {},
   "outputs": [
    {
     "name": "stdout",
     "output_type": "stream",
     "text": [
      "10\n",
      "20\n",
      "30\n",
      "40\n",
      "50\n",
      "60\n",
      "70\n"
     ]
    }
   ],
   "source": [
    "for depth in depths:\n",
    "    print(depth)"
   ]
  },
  {
   "cell_type": "markdown",
   "metadata": {},
   "source": [
    "We can also use the `continue` and `break` keywords to control how we step through the list.\n",
    "\n",
    "- `break` will stop stepping through the sequence if it is triggered.\n",
    "- `continue` will stop the current loop and get the next item in the sequence to pass through the loop.\n",
    "\n",
    "The difference can be seen as follows:"
   ]
  },
  {
   "cell_type": "code",
   "execution_count": 59,
   "metadata": {},
   "outputs": [
    {
     "name": "stdout",
     "output_type": "stream",
     "text": [
      "10\n",
      "20\n",
      "30\n",
      "40\n",
      "Depth is 50m, stopping loop.\n"
     ]
    }
   ],
   "source": [
    "for depth in depths:\n",
    "    if depth == 50:\n",
    "        print('Depth is 50m, stopping loop.')\n",
    "        break\n",
    "    else:\n",
    "        print(depth)"
   ]
  },
  {
   "cell_type": "code",
   "execution_count": 60,
   "metadata": {},
   "outputs": [
    {
     "name": "stdout",
     "output_type": "stream",
     "text": [
      "10m\n",
      "20m\n",
      "30m\n",
      "40m\n",
      "Depth is 50m, skipping.\n",
      "60m\n",
      "70m\n"
     ]
    }
   ],
   "source": [
    "for depth in depths:\n",
    "    if depth == 50:\n",
    "        print('Depth is 50m, skipping.')\n",
    "        continue\n",
    "    else:\n",
    "        print(f'{depth}m')"
   ]
  },
  {
   "cell_type": "markdown",
   "metadata": {},
   "source": [
    "A common pattern is building up a list is to use a loop to `append` values to an initially empty list:"
   ]
  },
  {
   "cell_type": "code",
   "execution_count": 61,
   "metadata": {},
   "outputs": [
    {
     "data": {
      "text/plain": [
       "[14.764413207060604,\n",
       " 14.764413207060604,\n",
       " 16.45477755417797,\n",
       " 16.45477755417797,\n",
       " 15.183022138909266,\n",
       " 15.183022138909266,\n",
       " 22.68114505868613]"
      ]
     },
     "execution_count": 61,
     "metadata": {},
     "output_type": "execute_result"
    }
   ],
   "source": [
    "porosities = []\n",
    "for density in densities:\n",
    "    porosities.append(density**1.3 * 5)\n",
    "\n",
    "porosities"
   ]
  },
  {
   "cell_type": "markdown",
   "metadata": {},
   "source": [
    "## 7: Dictionaries\n",
    "\n",
    "The above structure for building a log (using a list of lists) was rather brittle. It was easy to get the wrong value for a depth. It is also difficult to see what a given list is meant to represent.\n",
    "\n",
    "Dictionaries offer a means of fixing these issues, by using key: value pairs."
   ]
  },
  {
   "cell_type": "code",
   "execution_count": 62,
   "metadata": {},
   "outputs": [
    {
     "data": {
      "text/plain": [
       "{'rock_type': ['Sandstone',\n",
       "  'Sandstone',\n",
       "  'Shale',\n",
       "  'Shale',\n",
       "  'Sandstone',\n",
       "  'Sandstone',\n",
       "  'Granite'],\n",
       " 'depth': [10, 20, 30, 40, 50, 60, 70],\n",
       " 'density': [2.3, 2.3, 2.5, 2.5, 2.35, 2.35, 3.2]}"
      ]
     },
     "execution_count": 62,
     "metadata": {},
     "output_type": "execute_result"
    }
   ],
   "source": [
    "log = {\n",
    "    'rock_type': rocks,\n",
    "    'depth': depths,\n",
    "    'density': densities,\n",
    "}\n",
    "log"
   ]
  },
  {
   "cell_type": "markdown",
   "metadata": {},
   "source": [
    "These lists can now be accessed using the key, instead of remembering the order of the lists:"
   ]
  },
  {
   "cell_type": "code",
   "execution_count": 63,
   "metadata": {},
   "outputs": [
    {
     "data": {
      "text/plain": [
       "[10, 20, 30, 40, 50, 60, 70]"
      ]
     },
     "execution_count": 63,
     "metadata": {},
     "output_type": "execute_result"
    }
   ],
   "source": [
    "log['depth']"
   ]
  },
  {
   "cell_type": "code",
   "execution_count": 64,
   "metadata": {},
   "outputs": [
    {
     "data": {
      "text/plain": [
       "[2.3, 2.3, 2.5, 2.5, 2.35, 2.35, 3.2]"
      ]
     },
     "execution_count": 64,
     "metadata": {},
     "output_type": "execute_result"
    }
   ],
   "source": [
    "log.get('density')"
   ]
  },
  {
   "cell_type": "markdown",
   "metadata": {},
   "source": [
    "`get` is less prone to failure if the expected key does not exist, while `dict[key]` raises an exception."
   ]
  },
  {
   "cell_type": "code",
   "execution_count": 65,
   "metadata": {},
   "outputs": [
    {
     "data": {
      "text/plain": [
       "'Key not found!'"
      ]
     },
     "execution_count": 65,
     "metadata": {},
     "output_type": "execute_result"
    }
   ],
   "source": [
    "log.get('porosity', 'Key not found!')"
   ]
  },
  {
   "cell_type": "markdown",
   "metadata": {},
   "source": [
    "We can also access the keys, values or both as list-like things:"
   ]
  },
  {
   "cell_type": "code",
   "execution_count": 66,
   "metadata": {},
   "outputs": [
    {
     "data": {
      "text/plain": [
       "dict_keys(['rock_type', 'depth', 'density'])"
      ]
     },
     "execution_count": 66,
     "metadata": {},
     "output_type": "execute_result"
    }
   ],
   "source": [
    "log.keys()"
   ]
  },
  {
   "cell_type": "code",
   "execution_count": 67,
   "metadata": {},
   "outputs": [
    {
     "data": {
      "text/plain": [
       "dict_values([['Sandstone', 'Sandstone', 'Shale', 'Shale', 'Sandstone', 'Sandstone', 'Granite'], [10, 20, 30, 40, 50, 60, 70], [2.3, 2.3, 2.5, 2.5, 2.35, 2.35, 3.2]])"
      ]
     },
     "execution_count": 67,
     "metadata": {},
     "output_type": "execute_result"
    }
   ],
   "source": [
    "log.values()"
   ]
  },
  {
   "cell_type": "code",
   "execution_count": 68,
   "metadata": {},
   "outputs": [
    {
     "data": {
      "text/plain": [
       "dict_items([('rock_type', ['Sandstone', 'Sandstone', 'Shale', 'Shale', 'Sandstone', 'Sandstone', 'Granite']), ('depth', [10, 20, 30, 40, 50, 60, 70]), ('density', [2.3, 2.3, 2.5, 2.5, 2.35, 2.35, 3.2])])"
      ]
     },
     "execution_count": 68,
     "metadata": {},
     "output_type": "execute_result"
    }
   ],
   "source": [
    "log.items()"
   ]
  },
  {
   "cell_type": "markdown",
   "metadata": {},
   "source": [
    "By casting the result of `dict.items` into a list, we can see that we get a pair, which we can assign to two names at once:"
   ]
  },
  {
   "cell_type": "code",
   "execution_count": 69,
   "metadata": {},
   "outputs": [
    {
     "name": "stdout",
     "output_type": "stream",
     "text": [
      "('depth', [10, 20, 30, 40, 50, 60, 70])\n",
      "key:\tdepth\n",
      "value:\t[10, 20, 30, 40, 50, 60, 70]\n"
     ]
    }
   ],
   "source": [
    "print(list(log.items())[1])\n",
    "key, value = list(log.items())[1]\n",
    "print(f'key:\\t{key}')\n",
    "print(f'value:\\t{value}')"
   ]
  },
  {
   "cell_type": "markdown",
   "metadata": {},
   "source": [
    "We can use this simultaneous assignment/unpacking to easily loop through all the keys or values in a dictionary:"
   ]
  },
  {
   "cell_type": "code",
   "execution_count": 70,
   "metadata": {},
   "outputs": [
    {
     "name": "stdout",
     "output_type": "stream",
     "text": [
      "rock_type is ['Sandstone', 'Sandstone', 'Shale', 'Shale', 'Sandstone', 'Sandstone', 'Granite']\n",
      "depth is [10, 20, 30, 40, 50, 60, 70]\n",
      "density is [2.3, 2.3, 2.5, 2.5, 2.35, 2.35, 3.2]\n"
     ]
    }
   ],
   "source": [
    "for key, item in log.items():\n",
    "    print(f'{key} is {item}')"
   ]
  },
  {
   "cell_type": "markdown",
   "metadata": {},
   "source": [
    "Adding a new key:value pair to an existing dictionary is as simple as assigning a value to a key:"
   ]
  },
  {
   "cell_type": "code",
   "execution_count": 71,
   "metadata": {},
   "outputs": [
    {
     "data": {
      "text/plain": [
       "{'rock_type': ['Sandstone',\n",
       "  'Sandstone',\n",
       "  'Shale',\n",
       "  'Shale',\n",
       "  'Sandstone',\n",
       "  'Sandstone',\n",
       "  'Granite'],\n",
       " 'depth': [10, 20, 30, 40, 50, 60, 70],\n",
       " 'density': [2.3, 2.3, 2.5, 2.5, 2.35, 2.35, 3.2],\n",
       " 'porosities': [14.764413207060604,\n",
       "  14.764413207060604,\n",
       "  16.45477755417797,\n",
       "  16.45477755417797,\n",
       "  15.183022138909266,\n",
       "  15.183022138909266,\n",
       "  22.68114505868613]}"
      ]
     },
     "execution_count": 71,
     "metadata": {},
     "output_type": "execute_result"
    }
   ],
   "source": [
    "log['porosities'] = porosities\n",
    "log"
   ]
  },
  {
   "cell_type": "markdown",
   "metadata": {},
   "source": [
    "It might be more useful to make the depth the key, with the values assigned to each depth. The enumerate function steps through an iterable, as well as getting us a count of how far through the iterable we are. This allows us to make a dicctionary from any number of equally-sized lists:"
   ]
  },
  {
   "cell_type": "code",
   "execution_count": 72,
   "metadata": {},
   "outputs": [
    {
     "data": {
      "text/plain": [
       "{10: {'density': 2.3, 'rock_type': 'Sandstone'},\n",
       " 20: {'density': 2.3, 'rock_type': 'Sandstone'},\n",
       " 30: {'density': 2.5, 'rock_type': 'Shale'},\n",
       " 40: {'density': 2.5, 'rock_type': 'Shale'},\n",
       " 50: {'density': 2.35, 'rock_type': 'Sandstone'},\n",
       " 60: {'density': 2.35, 'rock_type': 'Sandstone'},\n",
       " 70: {'density': 3.2, 'rock_type': 'Granite'}}"
      ]
     },
     "execution_count": 72,
     "metadata": {},
     "output_type": "execute_result"
    }
   ],
   "source": [
    "depth_log = {}\n",
    "for count, depth in enumerate(depths):\n",
    "    depth_log[depth] = {'density': densities[count], 'rock_type': rocks[count]}\n",
    "\n",
    "depth_log"
   ]
  },
  {
   "cell_type": "markdown",
   "metadata": {},
   "source": [
    "We can now get the values associated with a given depth by querying for that depth, and if we want a specific thing, say the density, then we can ask for it in the same way, since we are getting a dictionary back:"
   ]
  },
  {
   "cell_type": "code",
   "execution_count": 73,
   "metadata": {},
   "outputs": [
    {
     "data": {
      "text/plain": [
       "{'density': 2.3, 'rock_type': 'Sandstone'}"
      ]
     },
     "execution_count": 73,
     "metadata": {},
     "output_type": "execute_result"
    }
   ],
   "source": [
    "depth_log.get(10)"
   ]
  },
  {
   "cell_type": "code",
   "execution_count": 74,
   "metadata": {},
   "outputs": [
    {
     "data": {
      "text/plain": [
       "2.3"
      ]
     },
     "execution_count": 74,
     "metadata": {},
     "output_type": "execute_result"
    }
   ],
   "source": [
    "depth_log.get(10).get('density')"
   ]
  },
  {
   "cell_type": "markdown",
   "metadata": {},
   "source": [
    "We could get all of the densities:"
   ]
  },
  {
   "cell_type": "code",
   "execution_count": 75,
   "metadata": {},
   "outputs": [
    {
     "name": "stdout",
     "output_type": "stream",
     "text": [
      "2.3\n",
      "2.3\n",
      "2.5\n",
      "2.5\n",
      "2.35\n",
      "2.35\n",
      "3.2\n"
     ]
    }
   ],
   "source": [
    "for value in depth_log.values():\n",
    "    print(value.get('density'))"
   ]
  },
  {
   "cell_type": "markdown",
   "metadata": {},
   "source": [
    "In the same way, we can add our porosities:"
   ]
  },
  {
   "cell_type": "code",
   "execution_count": 76,
   "metadata": {},
   "outputs": [],
   "source": [
    "for count, value in enumerate(depth_log.values()):\n",
    "    value['porosity'] = porosities[count]"
   ]
  },
  {
   "cell_type": "code",
   "execution_count": 77,
   "metadata": {},
   "outputs": [
    {
     "name": "stdout",
     "output_type": "stream",
     "text": [
      "{'density': 2.3, 'rock_type': 'Sandstone', 'porosity': 14.764413207060604}\n",
      "{'density': 2.3, 'rock_type': 'Sandstone', 'porosity': 14.764413207060604}\n",
      "{'density': 2.5, 'rock_type': 'Shale', 'porosity': 16.45477755417797}\n",
      "{'density': 2.5, 'rock_type': 'Shale', 'porosity': 16.45477755417797}\n",
      "{'density': 2.35, 'rock_type': 'Sandstone', 'porosity': 15.183022138909266}\n",
      "{'density': 2.35, 'rock_type': 'Sandstone', 'porosity': 15.183022138909266}\n",
      "{'density': 3.2, 'rock_type': 'Granite', 'porosity': 22.68114505868613}\n"
     ]
    }
   ],
   "source": [
    "for value in depth_log.values():\n",
    "    print(value)"
   ]
  },
  {
   "cell_type": "markdown",
   "metadata": {},
   "source": [
    "## Conclusion\n",
    "\n",
    "This should set you up well with the basics of Python, with a simple geoscience-based example. The rest of Agile's course will go into far more detail, but you have enough to be useful already.\n",
    "\n",
    "<hr /><img src=\"https://avatars1.githubusercontent.com/u/1692321?v=3&s=200\" style=\"float:center\" width=\"40px\" /><p><center>© 2020 <a href=\"http://www.agilegeoscience.com/\">Agile Geoscience</a> - <a href=\"http://www.apache.org/licenses/LICENSE-2.0.html\">Apache License 2.0</a></center></p>"
   ]
  },
  {
   "cell_type": "code",
   "execution_count": null,
   "metadata": {},
   "outputs": [],
   "source": []
  }
 ],
 "metadata": {
  "kernelspec": {
   "display_name": "geocomp",
   "language": "python",
   "name": "geocomp"
  },
  "language_info": {
   "codemirror_mode": {
    "name": "ipython",
    "version": 3
   },
   "file_extension": ".py",
   "mimetype": "text/x-python",
   "name": "python",
   "nbconvert_exporter": "python",
   "pygments_lexer": "ipython3",
   "version": "3.7.6"
  }
 },
 "nbformat": 4,
 "nbformat_minor": 4
}
